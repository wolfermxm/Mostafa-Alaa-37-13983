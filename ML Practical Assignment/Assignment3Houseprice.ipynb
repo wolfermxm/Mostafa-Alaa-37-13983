{
 "cells": [
  {
   "cell_type": "code",
   "execution_count": 13,
   "metadata": {},
   "outputs": [],
   "source": [
    "import pandas as pd\n",
    "from pandas import DataFrame\n",
    "import matplotlib.pyplot as plt\n",
    "from sklearn.model_selection import train_test_split\n",
    "from sklearn import datasets, linear_model\n",
    "import numpy as np\n",
    "from matplotlib import pyplot\n",
    "from sklearn.model_selection import KFold"
   ]
  },
  {
   "cell_type": "code",
   "execution_count": 14,
   "metadata": {},
   "outputs": [
    {
     "data": {
      "image/png": "[encoded data removed]",
      "text/plain": [
       "<Figure size 432x288 with 1 Axes>"
      ]
     },
     "metadata": {
      "needs_background": "light"
     },
     "output_type": "display_data"
    },
    {
     "data": {
      "image/png": "[encoded data removed]",
      "text/plain": [
       "<Figure size 432x288 with 1 Axes>"
      ]
     },
     "metadata": {
      "needs_background": "light"
     },
     "output_type": "display_data"
    }
   ],
   "source": [
    "data = pd.read_csv(\"house_prices_data_training_data.csv\")\n",
    "fig, ax = plt.subplots()\n",
    "fig, living = plt.subplots()\n",
    "\n",
    "ax.scatter(data['bathrooms'], data['price'])\n",
    "ax.set_title('house prices data training data Dataset')\n",
    "ax.set_xlabel('bedrooms')\n",
    "ax.set_ylabel('price')\n",
    "\n",
    "living.scatter(data['floors'], data['price'])\n",
    "living.set_title('house prices data training data Dataset')\n",
    "living.set_xlabel('sqft living')\n",
    "living.set_ylabel('price')\n",
    "\n",
    "price=data['price'].values[0:10799]\n",
    "data=data.drop(['date','price'],axis=1)\n",
    "train = data.values[0:10799]\n"
   ]
  },
  {
   "cell_type": "code",
   "execution_count": 15,
   "metadata": {},
   "outputs": [
    {
     "name": "stdout",
     "output_type": "stream",
     "text": [
      "[[ 7.12930052e+09  3.00000000e+00  1.00000000e+00 ... -1.22257000e+02\n",
      "   1.34000000e+03  5.65000000e+03]\n",
      " [ 6.41410019e+09  3.00000000e+00  2.25000000e+00 ... -1.22319000e+02\n",
      "   1.69000000e+03  7.63900000e+03]\n",
      " [ 5.63150040e+09  2.00000000e+00  1.00000000e+00 ... -1.22233000e+02\n",
      "   2.72000000e+03  8.06200000e+03]\n",
      " ...\n",
      " [ 9.54240008e+09  4.00000000e+00  2.00000000e+00 ... -1.22173000e+02\n",
      "   2.51000000e+03  1.10410000e+04]\n",
      " [ 3.22306906e+09  2.00000000e+00  1.75000000e+00 ... -1.22060000e+02\n",
      "   1.62000000e+03  1.12384000e+05]\n",
      " [ 1.72450003e+09  4.00000000e+00  2.50000000e+00 ... -1.22339000e+02\n",
      "   1.71000000e+03  7.90900000e+03]]\n"
     ]
    }
   ],
   "source": [
    "print(train)"
   ]
  },
  {
   "cell_type": "code",
   "execution_count": 16,
   "metadata": {},
   "outputs": [
    {
     "name": "stdout",
     "output_type": "stream",
     "text": [
      "(10799, 19)\n"
     ]
    }
   ],
   "source": [
    "#Normalizing the data\n",
    "\n",
    "\n",
    "\n",
    "data_norm = abs(np.subtract(train,train.mean(axis=0)))\n",
    "data_norm = np.divide(data_norm,train.max(axis=0))\n",
    "print(data_norm.shape)\n",
    "ones = np.ones((data_norm.shape[0],1))\n",
    "data_norm = np.hstack((ones,data_norm))"
   ]
  },
  {
   "cell_type": "code",
   "execution_count": 17,
   "metadata": {},
   "outputs": [],
   "source": [
    "theta=np.zeros(20)"
   ]
  },
  {
   "cell_type": "code",
   "execution_count": 18,
   "metadata": {},
   "outputs": [],
   "source": [
    "def computeH(data_norm, theta):\n",
    "    H = np.dot(data_norm,theta)\n",
    "    return H"
   ]
  },
  {
   "cell_type": "code",
   "execution_count": 19,
   "metadata": {},
   "outputs": [
    {
     "name": "stdout",
     "output_type": "stream",
     "text": [
      "[[ 1.00000000e+00  2.62962140e-01  3.29239239e-02 ... -3.54528546e-04\n",
      "   1.03932155e-01  8.67489410e-03]\n",
      " [ 1.00000000e+00  1.90296169e-01  3.29239239e-02 ... -8.65594778e-04\n",
      "   4.66490123e-02  6.39183625e-03]\n",
      " [ 1.00000000e+00  1.10782259e-01  1.23833015e-01 ... -1.56696456e-04\n",
      "   1.21927092e-01  5.90629906e-03]\n",
      " ...\n",
      " [ 1.00000000e+00  5.08138514e-01  5.79851670e-02 ... -3.37883769e-04\n",
      "   8.75572070e-02  2.48687757e-03]\n",
      " [ 1.00000000e+00  1.33919813e-01  1.23833015e-01 ... -1.26934319e-03\n",
      "   5.81056408e-02  1.13838880e-01]\n",
      " [ 1.00000000e+00  2.86177817e-01  5.79851670e-02 ... -1.03045485e-03\n",
      "   4.33756899e-02  6.08191889e-03]]\n"
     ]
    }
   ],
   "source": [
    "H=computeH(data_norm,theta)\n",
    "print(data_norm)\n"
   ]
  },
  {
   "cell_type": "code",
   "execution_count": 20,
   "metadata": {},
   "outputs": [],
   "source": [
    "def computeCost(X, y, theta):\n",
    "    \n",
    "    # initialize some useful values\n",
    "    m = y.size  # number of training examples\n",
    "    \n",
    "    # You need to return the following variables correctly\n",
    "\n",
    "    \n",
    "    J = 0\n",
    "    \n",
    "    # ====================== YOUR CODE HERE =====================\n",
    "    H = np.dot(X,theta)\n",
    "    s = np.subtract(H,y)\n",
    "    p = np.power(s,2.0)\n",
    "    m = np.multiply(2,m)\n",
    "    J = np.divide(np.sum(p),m)\n",
    "    # ===========================================================\n",
    "    return J\n",
    "\n",
    "def gradientDescent(X, y, theta, alpha, num_iters):\n",
    "    \n",
    "    # Initialize some useful values\n",
    "    m = y.shape[0]  # number of training examples\n",
    "    \n",
    "    # make a copy of theta, to avoid changing the original array, since numpy arrays\n",
    "    # are passed by reference to functions\n",
    "    theta = theta.copy()\n",
    "    \n",
    "    J_history = [] # Use a python list to save cost in every iteration\n",
    "    \n",
    "    for i in range(num_iters):\n",
    "        alphabym=np.divide(alpha,m)\n",
    "        sumofh0x=np.dot(X,theta)\n",
    "        theta=np.subtract(theta,((np.divide(alpha,m))*(np.dot(X.T,sumofh0x-y))))\n",
    "\n",
    "        # save the cost J in every iteration\n",
    "        J_history.append(computeCost(X, y, theta))\n",
    "    \n",
    "    return theta, J_history"
   ]
  },
  {
   "cell_type": "code",
   "execution_count": 21,
   "metadata": {},
   "outputs": [
    {
     "data": {
      "text/plain": [
       "[<matplotlib.lines.Line2D at 0x25e454725c8>]"
      ]
     },
     "execution_count": 21,
     "metadata": {},
     "output_type": "execute_result"
    },
    {
     "data": {
      "image/png": "[encoded data removed]",
      "text/plain": [
       "<Figure size 432x288 with 3 Axes>"
      ]
     },
     "metadata": {
      "needs_background": "light"
     },
     "output_type": "display_data"
    }
   ],
   "source": [
    "iterations = 100\n",
    "alpha = 0.01\n",
    "\n",
    "theta, J_history = gradientDescent(data_norm ,price, theta, alpha, iterations) #1st hypothesis\n",
    "data_norm1=np.delete(data_norm, np.s_[6:20], axis=1)\n",
    "theta1=np.zeros(6)\n",
    "theta1, J_history1 = gradientDescent(data_norm1 ,price, theta1, alpha, iterations) #2nd hypothesis\n",
    "\n",
    "x1=np.power(data_norm[0:10799,2],1.0) \n",
    "x2=np.power(data_norm[0:10799,3],2.0)\n",
    "x3=np.power(data_norm[0:10799,4],3.0)\n",
    "x4=np.power(data_norm[0:10799,5],4.0)\n",
    "x1=x1.reshape(10799,1)\n",
    "x2=x2.reshape(10799,1)\n",
    "x3=x3.reshape(10799,1)\n",
    "x4=x4.reshape(10799,1)\n",
    "data_norm2=np.hstack((x1,x2,x3,x4))\n",
    "theta2=np.zeros(4)\n",
    "theta2, J_history2 = gradientDescent(data_norm2 ,price, theta2, alpha, iterations) #3rd hypothesis\n",
    "\n",
    "plt.subplot(3,1,1)\n",
    "plt.plot(np.arange(iterations),J_history)\n",
    "plt.subplot(3,1,2)\n",
    "plt.plot(np.arange(iterations),J_history1)\n",
    "plt.subplot(3,1,3)\n",
    "plt.plot(np.arange(iterations),J_history2)\n"
   ]
  },
  {
   "cell_type": "code",
   "execution_count": 22,
   "metadata": {},
   "outputs": [],
   "source": [
    "def computeCostReg(X, y, theta, lambda_):\n",
    "    \n",
    "    # initialize some useful values\n",
    "    m = y.size  # number of training examples\n",
    "    \n",
    "    # You need to return the following variables correctly\n",
    "\n",
    "    \n",
    "    J = 0\n",
    "    \n",
    "    # ====================== YOUR CODE HERE =====================\n",
    "    H = np.dot(X,theta)\n",
    "    s = np.subtract(H,y)\n",
    "    p = np.power(s,2.0)\n",
    "    m = np.multiply(2,m)\n",
    "    J1= np.divide(np.sum(p),m)\n",
    "    R1=np.divide(lambda_, m)\n",
    "    R2=sum(np.power(theta,2.0))\n",
    "    J2=np.dot(R1,R2)\n",
    "    J=np.add(J1,J2)\n",
    "    # ===========================================================\n",
    "    return J\n",
    "\n",
    "\n",
    "def gradientDescentReg(X, y, theta, lambda_, alpha, num_iters):\n",
    "    \n",
    "    # Initialize some useful values\n",
    "    m = y.shape[0]  # number of training examples\n",
    "    \n",
    "    # make a copy of theta, to avoid changing the original array, since numpy arrays\n",
    "    # are passed by reference to functions\n",
    "    theta = theta.copy()\n",
    "    \n",
    "    J_history = [] # Use a python list to save cost in every iteration\n",
    "    \n",
    "    for i in range(num_iters):\n",
    "        alphabym=alpha/m\n",
    "        sumofh0x=np.dot(X,theta)\n",
    "        theta=theta-((alpha/m)*(np.dot(X.T,sumofh0x-y)))\n",
    "\n",
    "        # save the cost J in every iteration\n",
    "        J_history.append(computeCostReg(X, y, theta, lambda_))\n",
    "    \n",
    "\n",
    "    return theta, J_history"
   ]
  },
  {
   "cell_type": "code",
   "execution_count": 23,
   "metadata": {},
   "outputs": [
    {
     "name": "stdout",
     "output_type": "stream",
     "text": [
      "[ 3.62208716e+05  7.22353310e+04  5.18865611e+04  1.35443276e+05\n",
      "  1.87375846e+05  1.33095366e+04  8.99999390e+04  1.53543764e+05\n",
      "  3.75826848e+05  5.71290933e+04  1.85868244e+05  2.05805813e+05\n",
      "  1.54216395e+05  1.24171688e+04  1.46940509e+05  1.63993235e+01\n",
      " -2.47882448e+03 -4.65410124e+01  2.02206704e+05  1.38093586e+04]\n"
     ]
    },
    {
     "data": {
      "text/plain": [
       "[<matplotlib.lines.Line2D at 0x25e45869a48>]"
      ]
     },
     "execution_count": 23,
     "metadata": {},
     "output_type": "execute_result"
    },
    {
     "data": {
      "image/png": "[encoded data removed]",
      "text/plain": [
       "<Figure size 432x288 with 1 Axes>"
      ]
     },
     "metadata": {
      "needs_background": "light"
     },
     "output_type": "display_data"
    }
   ],
   "source": [
    "lambda_ = 0.5\n",
    "alpha = 0.01\n",
    "iterations = 2000\n",
    "new_theta, J_history = gradientDescentReg(data_norm, price, theta, lambda_, alpha, iterations)\n",
    "print(new_theta)\n",
    "plt.plot(np.arange(iterations),J_history)"
   ]
  },
  {
   "cell_type": "code",
   "execution_count": 25,
   "metadata": {},
   "outputs": [
    {
     "name": "stdout",
     "output_type": "stream",
     "text": [
      "KFold(n_splits=3, random_state=None, shuffle=False)\n",
      "TRAIN: [ 3600  3601  3602 ... 10796 10797 10798] TEST: [   0    1    2 ... 3597 3598 3599]\n",
      "Train Cost : 52646921224.76964\n",
      "Test Cost : 45778514402.97203\n",
      "TRAIN: [    0     1     2 ... 10796 10797 10798] TEST: [3600 3601 3602 ... 7197 7198 7199]\n",
      "Train Cost : 51465035493.06387\n",
      "Test Cost : 48151676493.14636\n",
      "TRAIN: [   0    1    2 ... 7197 7198 7199] TEST: [ 7200  7201  7202 ... 10796 10797 10798]\n",
      "Train Cost : 52369310852.1632\n",
      "Test Cost : 46202316864.52697\n"
     ]
    },
    {
     "data": {
      "image/png": "[encoded data removed]",
      "text/plain": [
       "<Figure size 432x288 with 1 Axes>"
      ]
     },
     "metadata": {
      "needs_background": "light"
     },
     "output_type": "display_data"
    }
   ],
   "source": [
    "lambda_ = 0.5\n",
    "alpha = 0.01\n",
    "iterations = 2000\n",
    "thetatest=0\n",
    "\n",
    "kf = KFold(n_splits=3) # Define the split - into 2 folds \n",
    "kf.get_n_splits(data_norm) # returns the number of splitting iterations in the cross-validator\n",
    "print(kf) \n",
    "for train_index, test_index in kf.split(data_norm):\n",
    "    print(\"TRAIN:\", train_index, \"TEST:\", test_index)\n",
    "    X_train, X_test = data_norm[train_index], data_norm[test_index]\n",
    "    y_train, y_test = price[train_index], price[test_index]\n",
    "    new_theta1, J_history1 = gradientDescentReg(X_train, y_train, theta, 0.1, alpha, iterations)\n",
    "    new_theta2, J_history2 = gradientDescentReg(X_train, y_train, theta, 0.25, alpha, iterations)\n",
    "    new_theta3, J_history3 = gradientDescentReg(X_train, y_train, theta,0.5 , alpha, iterations)\n",
    "    R=min(J_history1[len(J_history1)-1],J_history2[len(J_history2)-1],J_history3[len(J_history3)-1])\n",
    "    if(R==J_history1[len(J_history1)-1]):\n",
    "        J_history=J_history1\n",
    "        lambda_=0.1\n",
    "        thetatest=new_theta1\n",
    "    elif(R==J_history2[len(J_history2)-1]):\n",
    "        J_history=J_history1\n",
    "        lambda_=0.25\n",
    "        thetatest=new_theta2\n",
    "    else:\n",
    "        J_history=J_history2\n",
    "        lambda_=0.5\n",
    "        thetatest=new_theta3\n",
    "    print(\"Train Cost :\",J_history[len(J_history)-1])\n",
    "    plt.plot(np.arange(iterations),J_history)\n",
    "    new_thetat, J_historyt = gradientDescentReg(X_test, y_test, thetatest, lambda_, alpha, iterations)\n",
    "    print(\"Test Cost :\",J_historyt[len(J_historyt)-1])\n"
   ]
  },
  {
   "cell_type": "code",
   "execution_count": null,
   "metadata": {},
   "outputs": [],
   "source": []
  },
  {
   "cell_type": "code",
   "execution_count": null,
   "metadata": {},
   "outputs": [],
   "source": []
  }
 ],
 "metadata": {
  "kernelspec": {
   "display_name": "Python 3",
   "language": "python",
   "name": "python3"
  },
  "language_info": {
   "codemirror_mode": {
    "name": "ipython",
    "version": 3
   },
   "file_extension": ".py",
   "mimetype": "text/x-python",
   "name": "python",
   "nbconvert_exporter": "python",
   "pygments_lexer": "ipython3",
   "version": "3.7.4"
  }
 },
 "nbformat": 4,
 "nbformat_minor": 1
}
